{
 "cells": [
  {
   "cell_type": "code",
   "execution_count": 2,
   "id": "90f1ef50-2ed9-4f8c-9b8d-0e5879634623",
   "metadata": {},
   "outputs": [
    {
     "name": "stdout",
     "output_type": "stream",
     "text": [
      "Task added successfully: {'title': 'love520333', 'description': 'Love dubu dahyun22e'}\n"
     ]
    }
   ],
   "source": [
    "import httpx\n",
    "\n",
    "url = \"http://localhost:8000/api/todo\"  # Replace with the actual URL of your FastAPI app\n",
    "\n",
    "def add_task(title, description):\n",
    "    payload = {\n",
    "        \"title\": title,\n",
    "        \"description\": description\n",
    "    }\n",
    "\n",
    "    response = httpx.post(url, json=payload)\n",
    "\n",
    "    if response.status_code == 200:\n",
    "        print(f\"Task added successfully: {response.json()}\")\n",
    "    else:\n",
    "        print(f\"Failed to add task. Status code: {response.status_code}, Error: {response.text}\")\n",
    "\n",
    "if __name__ == \"__main__\":\n",
    "    title = \"love520333\"\n",
    "    description = \"Love dubu dahyun22e\"\n",
    "\n",
    "    add_task(title, description)\n"
   ]
  },
  {
   "cell_type": "code",
   "execution_count": null,
   "id": "0b60b7b0-99ea-484f-bbc0-5e874eace2ae",
   "metadata": {},
   "outputs": [],
   "source": []
  }
 ],
 "metadata": {
  "kernelspec": {
   "display_name": "Python 3 (ipykernel)",
   "language": "python",
   "name": "python3"
  },
  "language_info": {
   "codemirror_mode": {
    "name": "ipython",
    "version": 3
   },
   "file_extension": ".py",
   "mimetype": "text/x-python",
   "name": "python",
   "nbconvert_exporter": "python",
   "pygments_lexer": "ipython3",
   "version": "3.10.5"
  }
 },
 "nbformat": 4,
 "nbformat_minor": 5
}
